{
 "cells": [
  {
   "cell_type": "markdown",
   "metadata": {},
   "source": [
    "Homework 3 - CNN"
   ]
  },
  {
   "cell_type": "markdown",
   "metadata": {
    "id": "1rm65OztSCpF"
   },
   "source": [
    "# **Importing Important Libraries**"
   ]
  },
  {
   "cell_type": "code",
   "execution_count": 1,
   "metadata": {
    "id": "-1_8VZgpEtea"
   },
   "outputs": [],
   "source": [
    "import numpy as np\n",
    "import pandas as pd\n",
    "import matplotlib.pyplot as plt\n",
    "import matplotlib.patches as mpatches\n",
    "import seaborn as sns\n",
    "from torchviz import make_dot, make_dot_from_trace\n",
    "from torchsummary import summary\n",
    "\n",
    "import torch\n",
    "import torch.nn as nn\n",
    "from torch.autograd import Variable\n",
    "\n",
    "import torchvision\n",
    "import torchvision.transforms as transforms\n",
    "from torch.utils.data import Dataset, DataLoader\n",
    "from sklearn.metrics import confusion_matrix"
   ]
  },
  {
   "cell_type": "markdown",
   "metadata": {
    "id": "s6bjL6wESfoV"
   },
   "source": [
    "### If the GPU is available use it for the computation otherwise use the CPU."
   ]
  },
  {
   "cell_type": "code",
   "execution_count": 2,
   "metadata": {
    "id": "q6btjJ9YTXXw"
   },
   "outputs": [],
   "source": [
    "device = torch.device(\"cuda:0\" if torch.cuda.is_available() else \"cpu\")"
   ]
  },
  {
   "cell_type": "markdown",
   "metadata": {},
   "source": [
    "## Downloading and loading MNIST Fashion dataset"
   ]
  },
  {
   "cell_type": "code",
   "execution_count": 3,
   "metadata": {},
   "outputs": [
    {
     "name": "stdout",
     "output_type": "stream",
     "text": [
      "Downloading http://fashion-mnist.s3-website.eu-central-1.amazonaws.com/train-images-idx3-ubyte.gz to hw/fashionmnist/FashionMNIST/raw/train-images-idx3-ubyte.gz\n"
     ]
    },
    {
     "data": {
      "application/vnd.jupyter.widget-view+json": {
       "model_id": "0ded197f03444642bc9823b1742f61c2",
       "version_major": 2,
       "version_minor": 0
      },
      "text/plain": [
       "HBox(children=(FloatProgress(value=1.0, bar_style='info', max=1.0), HTML(value='')))"
      ]
     },
     "metadata": {},
     "output_type": "display_data"
    },
    {
     "name": "stdout",
     "output_type": "stream",
     "text": [
      "Extracting hw/fashionmnist/FashionMNIST/raw/train-images-idx3-ubyte.gz to hw/fashionmnist/FashionMNIST/raw\n",
      "Downloading http://fashion-mnist.s3-website.eu-central-1.amazonaws.com/train-labels-idx1-ubyte.gz to hw/fashionmnist/FashionMNIST/raw/train-labels-idx1-ubyte.gz\n"
     ]
    },
    {
     "data": {
      "application/vnd.jupyter.widget-view+json": {
       "model_id": "918ce0fefcc74ca89db8780bbf67fe1b",
       "version_major": 2,
       "version_minor": 0
      },
      "text/plain": [
       "HBox(children=(FloatProgress(value=1.0, bar_style='info', max=1.0), HTML(value='')))"
      ]
     },
     "metadata": {},
     "output_type": "display_data"
    },
    {
     "name": "stdout",
     "output_type": "stream",
     "text": [
      "Extracting hw/fashionmnist/FashionMNIST/raw/train-labels-idx1-ubyte.gz to hw/fashionmnist/FashionMNIST/raw\n",
      "Downloading http://fashion-mnist.s3-website.eu-central-1.amazonaws.com/t10k-images-idx3-ubyte.gz to hw/fashionmnist/FashionMNIST/raw/t10k-images-idx3-ubyte.gz\n"
     ]
    },
    {
     "data": {
      "application/vnd.jupyter.widget-view+json": {
       "model_id": "b6f1fce8e09f45a9a4f903fa1cf2fe17",
       "version_major": 2,
       "version_minor": 0
      },
      "text/plain": [
       "HBox(children=(FloatProgress(value=1.0, bar_style='info', max=1.0), HTML(value='')))"
      ]
     },
     "metadata": {},
     "output_type": "display_data"
    },
    {
     "name": "stdout",
     "output_type": "stream",
     "text": [
      "Extracting hw/fashionmnist/FashionMNIST/raw/t10k-images-idx3-ubyte.gz to hw/fashionmnist/FashionMNIST/raw\n",
      "Downloading http://fashion-mnist.s3-website.eu-central-1.amazonaws.com/t10k-labels-idx1-ubyte.gz to hw/fashionmnist/FashionMNIST/raw/t10k-labels-idx1-ubyte.gz\n"
     ]
    },
    {
     "data": {
      "application/vnd.jupyter.widget-view+json": {
       "model_id": "f0c322b435424836bba03a16f80e9e8c",
       "version_major": 2,
       "version_minor": 0
      },
      "text/plain": [
       "HBox(children=(FloatProgress(value=1.0, bar_style='info', max=1.0), HTML(value='')))"
      ]
     },
     "metadata": {},
     "output_type": "display_data"
    },
    {
     "name": "stdout",
     "output_type": "stream",
     "text": [
      "Extracting hw/fashionmnist/FashionMNIST/raw/t10k-labels-idx1-ubyte.gz to hw/fashionmnist/FashionMNIST/raw\n",
      "Processing...\n",
      "Done!\n",
      "\n",
      "\n",
      "\n"
     ]
    },
    {
     "name": "stderr",
     "output_type": "stream",
     "text": [
      "/Users/captainbeetal/opt/anaconda3/lib/python3.8/site-packages/torchvision/datasets/mnist.py:469: UserWarning: The given NumPy array is not writeable, and PyTorch does not support non-writeable tensors. This means you can write to the underlying (supposedly non-writeable) NumPy array using the tensor. You may want to copy the array to protect its data or make it writeable before converting it to a tensor. This type of warning will be suppressed for the rest of this program. (Triggered internally at  ../torch/csrc/utils/tensor_numpy.cpp:141.)\n",
      "  return torch.from_numpy(parsed.astype(m[2], copy=False)).view(*s)\n"
     ]
    }
   ],
   "source": [
    "train_set = torchvision.datasets.FashionMNIST(\"hw/fashionmnist\",  download=True,transform=\n",
    "                                                transforms.Compose([transforms.ToTensor()]))\n",
    "test_set = torchvision.datasets.FashionMNIST(\"hw/fashionmnist\", download=True,train=False, transform=\n",
    "                                               transforms.Compose([transforms.ToTensor()]))  "
   ]
  },
  {
   "cell_type": "markdown",
   "metadata": {},
   "source": [
    "### Creating train and test loader using torch DataLoader clas with batch size of 100"
   ]
  },
  {
   "cell_type": "code",
   "execution_count": 4,
   "metadata": {},
   "outputs": [],
   "source": [
    "train_loader = torch.utils.data.DataLoader(train_set, batch_size=100)\n",
    "test_loader = torch.utils.data.DataLoader(test_set,batch_size=100)"
   ]
  },
  {
   "cell_type": "code",
   "execution_count": 8,
   "metadata": {},
   "outputs": [
    {
     "name": "stdout",
     "output_type": "stream",
     "text": [
      "tensor([9, 0, 0, 3, 0, 2, 7, 2, 5, 5, 0, 9, 5, 5, 7, 9, 1, 0, 6, 4, 3, 1, 4, 8,\n",
      "        4, 3, 0, 2, 4, 4, 5, 3, 6, 6, 0, 8, 5, 2, 1, 6, 6, 7, 9, 5, 9, 2, 7, 3,\n",
      "        0, 3, 3, 3, 7, 2, 2, 6, 6, 8, 3, 3, 5, 0, 5, 5, 0, 2, 0, 0, 4, 1, 3, 1,\n",
      "        6, 3, 1, 4, 4, 6, 1, 9, 1, 3, 5, 7, 9, 7, 1, 7, 9, 9, 9, 3, 2, 9, 3, 6,\n",
      "        4, 1, 1, 8])\n"
     ]
    }
   ],
   "source": [
    "for x,y in train_loader:\n",
    "    print(y)\n",
    "    break"
   ]
  },
  {
   "cell_type": "markdown",
   "metadata": {
    "id": "4SfsxOX4peHU"
   },
   "source": [
    "### We have 10 types of clothes in FashionMNIST dataset.\n",
    "\n",
    "\n",
    "> Making a method that return the name of class for the label number.\n",
    "ex. if the label is 5, we return Sandal.\n",
    "\n"
   ]
  },
  {
   "cell_type": "code",
   "execution_count": 8,
   "metadata": {
    "id": "uWIE3hVqOlMi"
   },
   "outputs": [],
   "source": [
    "def output_label(label):\n",
    "    output_mapping = {\n",
    "                 0: \"T-shirt/Top\",\n",
    "                 1: \"Trouser\",\n",
    "                 2: \"Pullover\",\n",
    "                 3: \"Dress\",\n",
    "                 4: \"Coat\", \n",
    "                 5: \"Sandal\", \n",
    "                 6: \"Shirt\",\n",
    "                 7: \"Sneaker\",\n",
    "                 8: \"Bag\",\n",
    "                 9: \"Ankle Boot\"\n",
    "                 }\n",
    "    input = (label.item() if type(label) == torch.Tensor else label)\n",
    "    return output_mapping[input]"
   ]
  },
  {
   "cell_type": "markdown",
   "metadata": {},
   "source": [
    "## Important User Defined Functions\n",
    "\n",
    "> \n",
    "Below function trains a model on the number of epoch as passed in the function parameter. We are using Cross entropy as the loss function for all the predictions and Adam as the optimizer.\n"
   ]
  },
  {
   "cell_type": "code",
   "execution_count": 32,
   "metadata": {},
   "outputs": [],
   "source": [
    "error = nn.CrossEntropyLoss()\n",
    "\n",
    "learning_rate = 0.001\n",
    "\n",
    "\n",
    "def training(epoch,model,train_loader,val_loader):\n",
    "    num_epochs = epoch\n",
    "    train_lss = []\n",
    "    val_loss = []\n",
    "    accuracy_list = []\n",
    "    count=0\n",
    "    optimizer = torch.optim.Adam(model.parameters(), lr=learning_rate)\n",
    "    for epoch in range(num_epochs):\n",
    "        for images, labels in train_loader:\n",
    "            # Transfering images and labels to GPU if available\n",
    "            images, labels = images.to(device), labels.to(device)\n",
    "\n",
    "            train = Variable(images.view(100, 1, 28, 28))\n",
    "            labels = Variable(labels)\n",
    "            # Forward pass \n",
    "            outputs = model(train)\n",
    "            loss = error(outputs, labels)\n",
    "            # Initializing a gradient as 0 so there is no mixing of gradient among the batches\n",
    "            optimizer.zero_grad()\n",
    "            #Propagating the error backward\n",
    "            loss.backward()\n",
    "            # Optimizing the parameters\n",
    "            optimizer.step()\n",
    "            count += 1\n",
    "            \n",
    "            train_lss.append(loss.item())\n",
    "        \n",
    "        with torch.no_grad():\n",
    "            # It's same as \"if count % 50 == 0\"\n",
    "            total = 0\n",
    "            correct = 0\n",
    "            for images, labels in val_loader:\n",
    "                images, labels = images.to(device), labels.to(device)\n",
    "                \n",
    "                test = Variable(images.view(100, 1, 28, 28))\n",
    "\n",
    "                outputs = model(test)\n",
    "                val_lss = error(outputs, labels)\n",
    "                \n",
    "                predictions = torch.max(outputs, 1)[1].to(device)\n",
    "                correct += (predictions == labels).sum()\n",
    "                total += len(labels)\n",
    "                val_loss.append(val_lss.item())\n",
    "                \n",
    "            accuracy = correct * 100 // total\n",
    "            accuracy_list.append(accuracy)\n",
    "            \n",
    "                \n",
    "        \n",
    "        print(\"Epoch: %d, training loss: %1.5f , validation loss: %1.5f , validation accuracy: %1.5f\" \n",
    "              % (epoch, loss.item(),val_lss.item(),accuracy))\n",
    "\n",
    "    return train_lss,val_loss,accuracy_list"
   ]
  },
  {
   "cell_type": "markdown",
   "metadata": {},
   "source": [
    "> Below function plots the training and validation loss which is returned by our training function above.\n"
   ]
  },
  {
   "cell_type": "code",
   "execution_count": 52,
   "metadata": {},
   "outputs": [],
   "source": [
    "def plot_TrainTestMSE(epoch,train_loss,test_loss):\n",
    "    \n",
    "    blue_patch = mpatches.Patch(color='blue', label='Train MSE')\n",
    "    green_patch = mpatches.Patch(color='orange', label='Validation MSE')\n",
    "    \n",
    "    #Using matplotlib subplot to create two subplot and specifying figure size as 14x6\n",
    "    plt.figure(figsize=(14,6))\n",
    "    \n",
    "    #plotting the first plot\n",
    "    #plotting the train loss\n",
    "    sns.lineplot(x=range(1,epoch+1),y=train_loss)\n",
    "    #plotting the testing loss\n",
    "    sns.lineplot(x=range(1,epoch+1),y=test_loss)\n",
    "    #specifying the title for first plot\n",
    "\n",
    "    sns.despine(top=True)\n",
    "    \n",
    "    #specifying the super title for both the plot\n",
    "    plt.suptitle(\"Training and Validation loss\");"
   ]
  },
  {
   "cell_type": "code",
   "execution_count": null,
   "metadata": {},
   "outputs": [],
   "source": []
  },
  {
   "cell_type": "markdown",
   "metadata": {
    "id": "YM2u0Riup9mx"
   },
   "source": [
    "## Building a CNN "
   ]
  },
  {
   "cell_type": "markdown",
   "metadata": {},
   "source": [
    "### CNN Model 1 with one 2d conv layer followed by two linear layer\n",
    "\n",
    "We have used a 2d-conv layer with kernel-size as 3 and padding 1. The conv layer is followed by batch normalization layer, relu activation function and finally a max pool 2d layer. The output of the this layer is fed into two linear layer."
   ]
  },
  {
   "cell_type": "code",
   "execution_count": 17,
   "metadata": {},
   "outputs": [],
   "source": [
    "class FashionCNN1(nn.Module):\n",
    "    def __init__(self):\n",
    "        super(FashionCNN1, self).__init__()\n",
    "        \n",
    "        self.layer1 = nn.Sequential(\n",
    "            nn.Conv2d(in_channels=1, out_channels=32, kernel_size=3, padding=1),\n",
    "            nn.BatchNorm2d(32),\n",
    "            nn.ReLU(),\n",
    "            nn.MaxPool2d(kernel_size=2, stride=2)\n",
    "        )\n",
    "        \n",
    "        self.fc1 = nn.Linear(in_features=32*14*14, out_features=120)\n",
    "        self.fc3 = nn.Linear(in_features=120, out_features=10)\n",
    "        \n",
    "    def forward(self, x):\n",
    "        out = self.layer1(x)\n",
    "        out = out.view(out.size(0), -1)\n",
    "        out = self.fc1(out)\n",
    "        out = self.fc3(out)\n",
    "        \n",
    "        return out"
   ]
  },
  {
   "cell_type": "code",
   "execution_count": 74,
   "metadata": {},
   "outputs": [],
   "source": []
  },
  {
   "cell_type": "code",
   "execution_count": 33,
   "metadata": {},
   "outputs": [
    {
     "data": {
      "text/plain": [
       "FashionCNN1(\n",
       "  (layer1): Sequential(\n",
       "    (0): Conv2d(1, 32, kernel_size=(3, 3), stride=(1, 1), padding=(1, 1))\n",
       "    (1): BatchNorm2d(32, eps=1e-05, momentum=0.1, affine=True, track_running_stats=True)\n",
       "    (2): ReLU()\n",
       "    (3): MaxPool2d(kernel_size=2, stride=2, padding=0, dilation=1, ceil_mode=False)\n",
       "  )\n",
       "  (fc1): Linear(in_features=6272, out_features=120, bias=True)\n",
       "  (fc3): Linear(in_features=120, out_features=10, bias=True)\n",
       ")"
      ]
     },
     "execution_count": 33,
     "metadata": {},
     "output_type": "execute_result"
    }
   ],
   "source": [
    "model1 = FashionCNN1()\n",
    "model1.to(device)"
   ]
  },
  {
   "cell_type": "code",
   "execution_count": 75,
   "metadata": {},
   "outputs": [
    {
     "name": "stdout",
     "output_type": "stream",
     "text": [
      "----------------------------------------------------------------\n",
      "        Layer (type)               Output Shape         Param #\n",
      "================================================================\n",
      "            Conv2d-1           [-1, 32, 28, 28]             320\n",
      "       BatchNorm2d-2           [-1, 32, 28, 28]              64\n",
      "              ReLU-3           [-1, 32, 28, 28]               0\n",
      "         MaxPool2d-4           [-1, 32, 14, 14]               0\n",
      "            Linear-5                  [-1, 120]         752,760\n",
      "            Linear-6                   [-1, 10]           1,210\n",
      "================================================================\n",
      "Total params: 754,354\n",
      "Trainable params: 754,354\n",
      "Non-trainable params: 0\n",
      "----------------------------------------------------------------\n",
      "Input size (MB): 0.00\n",
      "Forward/backward pass size (MB): 0.62\n",
      "Params size (MB): 2.88\n",
      "Estimated Total Size (MB): 3.50\n",
      "----------------------------------------------------------------\n"
     ]
    }
   ],
   "source": [
    "summary(model1,input_size=(1,28,28))"
   ]
  },
  {
   "cell_type": "markdown",
   "metadata": {},
   "source": [
    "```\n",
    "Above is the model summary with the computation resources required. For one image it need 2.88 mb size for the parameters and the 3.5 mb total size. It has total 754354 parameters.\n",
    "```"
   ]
  },
  {
   "cell_type": "code",
   "execution_count": 34,
   "metadata": {},
   "outputs": [
    {
     "name": "stdout",
     "output_type": "stream",
     "text": [
      "Epoch: 0, training loss: 0.31577 , validation loss: 0.30871 , validation accuracy: 89.00000\n",
      "Epoch: 1, training loss: 0.28794 , validation loss: 0.27418 , validation accuracy: 90.00000\n",
      "Epoch: 2, training loss: 0.27084 , validation loss: 0.25642 , validation accuracy: 91.00000\n",
      "Epoch: 3, training loss: 0.25598 , validation loss: 0.23626 , validation accuracy: 91.00000\n",
      "Epoch: 4, training loss: 0.22499 , validation loss: 0.21591 , validation accuracy: 92.00000\n",
      "Epoch: 5, training loss: 0.21984 , validation loss: 0.20035 , validation accuracy: 92.00000\n",
      "Epoch: 6, training loss: 0.17286 , validation loss: 0.16321 , validation accuracy: 93.00000\n",
      "Epoch: 7, training loss: 0.14689 , validation loss: 0.13185 , validation accuracy: 94.00000\n",
      "Epoch: 8, training loss: 0.13147 , validation loss: 0.11401 , validation accuracy: 94.00000\n",
      "Epoch: 9, training loss: 0.14623 , validation loss: 0.12364 , validation accuracy: 93.00000\n"
     ]
    }
   ],
   "source": [
    "train_lss,val_loss,accuracy_list = training(10,model1,train_loader,test_loader)"
   ]
  },
  {
   "cell_type": "markdown",
   "metadata": {},
   "source": [
    "```\n",
    "We have trained our model for 10 epoch. Since we are using batch of size 100 and our train dataset has 60,000 images, we have total 600 iteration per epoch which gives us total of 6000 iterations for 10 epoch. And that is why we are only training model with 10 epochs. \n",
    "\n",
    "With the 10 epoch and 1 2d-conv layer, we are managed to acheived 94% best validation accuracy. Also, from the training loss and validation loss, we can observe that the model was training very well. Since both the losses are decreasing per epoch.\n",
    "```"
   ]
  },
  {
   "cell_type": "code",
   "execution_count": 53,
   "metadata": {},
   "outputs": [
    {
     "data": {
      "image/png": "[encoded data removed]",
      "text/plain": [
       "<Figure size 1008x432 with 1 Axes>"
      ]
     },
     "metadata": {},
     "output_type": "display_data"
    }
   ],
   "source": [
    "plot_TrainTestMSE(6000,train_lss,val_loss)"
   ]
  },
  {
   "cell_type": "markdown",
   "metadata": {},
   "source": [
    "> The above plot is ploted between the total iterations and validation/training loss. In the above cell I had explained how we have 6000 iteration in 10 epoch. From the it seems that both the loses have various ups and downs but we must keep in mind that these losses are per iteration not per epoch. We got decreasing losses per epoch as in the output in previous cell. "
   ]
  },
  {
   "cell_type": "markdown",
   "metadata": {},
   "source": [
    "### CNN Model 2 with two 2d conv layer, one dropout layer followed by three linear layer\n",
    "\n",
    "We have used two 2d-conv layer. The conv layer is followed by batch normalization layer, relu activation function and finally a max pool 2d layer in each layer. The output of the second conv layer is fed into a linear layer then a dropout layer and finally two more linear layer."
   ]
  },
  {
   "cell_type": "code",
   "execution_count": 62,
   "metadata": {
    "id": "hyCH0Q4hSgFB"
   },
   "outputs": [],
   "source": [
    "class FashionCNN(nn.Module):\n",
    "    \n",
    "    def __init__(self):\n",
    "        super(FashionCNN, self).__init__()\n",
    "        \n",
    "        self.layer1 = nn.Sequential(\n",
    "            nn.Conv2d(in_channels=1, out_channels=32, kernel_size=3, padding=1),\n",
    "            nn.BatchNorm2d(32),\n",
    "            nn.ReLU(),\n",
    "            nn.MaxPool2d(kernel_size=2, stride=2)\n",
    "        )\n",
    "        \n",
    "        self.layer2 = nn.Sequential(\n",
    "            nn.Conv2d(in_channels=32, out_channels=64, kernel_size=3),\n",
    "            nn.BatchNorm2d(64),\n",
    "            nn.ReLU(),\n",
    "            nn.MaxPool2d(2)\n",
    "        )\n",
    "        \n",
    "        self.fc1 = nn.Linear(in_features=64*6*6, out_features=600)\n",
    "        self.drop = nn.Dropout2d(0.25)\n",
    "        self.fc2 = nn.Linear(in_features=600, out_features=120)\n",
    "        self.fc3 = nn.Linear(in_features=120, out_features=10)\n",
    "        \n",
    "    def forward(self, x):\n",
    "        out = self.layer1(x)\n",
    "        out = self.layer2(out)\n",
    "        out = out.view(out.size(0), -1)\n",
    "        out = self.fc1(out)\n",
    "        out = self.drop(out)\n",
    "        out = self.fc2(out)\n",
    "        out = self.fc3(out)\n",
    "        \n",
    "        return out\n"
   ]
  },
  {
   "cell_type": "code",
   "execution_count": 66,
   "metadata": {},
   "outputs": [
    {
     "data": {
      "text/plain": [
       "FashionCNN(\n",
       "  (layer1): Sequential(\n",
       "    (0): Conv2d(1, 32, kernel_size=(3, 3), stride=(1, 1), padding=(1, 1))\n",
       "    (1): BatchNorm2d(32, eps=1e-05, momentum=0.1, affine=True, track_running_stats=True)\n",
       "    (2): ReLU()\n",
       "    (3): MaxPool2d(kernel_size=2, stride=2, padding=0, dilation=1, ceil_mode=False)\n",
       "  )\n",
       "  (layer2): Sequential(\n",
       "    (0): Conv2d(32, 64, kernel_size=(3, 3), stride=(1, 1))\n",
       "    (1): BatchNorm2d(64, eps=1e-05, momentum=0.1, affine=True, track_running_stats=True)\n",
       "    (2): ReLU()\n",
       "    (3): MaxPool2d(kernel_size=2, stride=2, padding=0, dilation=1, ceil_mode=False)\n",
       "  )\n",
       "  (fc1): Linear(in_features=2304, out_features=600, bias=True)\n",
       "  (drop): Dropout2d(p=0.25)\n",
       "  (fc2): Linear(in_features=600, out_features=120, bias=True)\n",
       "  (fc3): Linear(in_features=120, out_features=10, bias=True)\n",
       ")"
      ]
     },
     "execution_count": 66,
     "metadata": {},
     "output_type": "execute_result"
    }
   ],
   "source": [
    "model3 = FashionCNN()\n",
    "model3.to(device)"
   ]
  },
  {
   "cell_type": "code",
   "execution_count": 82,
   "metadata": {},
   "outputs": [
    {
     "name": "stdout",
     "output_type": "stream",
     "text": [
      "----------------------------------------------------------------\n",
      "        Layer (type)               Output Shape         Param #\n",
      "================================================================\n",
      "            Conv2d-1           [-1, 32, 28, 28]             320\n",
      "       BatchNorm2d-2           [-1, 32, 28, 28]              64\n",
      "              ReLU-3           [-1, 32, 28, 28]               0\n",
      "         MaxPool2d-4           [-1, 32, 14, 14]               0\n",
      "            Conv2d-5           [-1, 64, 12, 12]          18,496\n",
      "       BatchNorm2d-6           [-1, 64, 12, 12]             128\n",
      "              ReLU-7           [-1, 64, 12, 12]               0\n",
      "         MaxPool2d-8             [-1, 64, 6, 6]               0\n",
      "            Linear-9                  [-1, 600]       1,383,000\n",
      "        Dropout2d-10                  [-1, 600]               0\n",
      "           Linear-11                  [-1, 120]          72,120\n",
      "           Linear-12                   [-1, 10]           1,210\n",
      "================================================================\n",
      "Total params: 1,475,338\n",
      "Trainable params: 1,475,338\n",
      "Non-trainable params: 0\n",
      "----------------------------------------------------------------\n",
      "Input size (MB): 0.00\n",
      "Forward/backward pass size (MB): 0.86\n",
      "Params size (MB): 5.63\n",
      "Estimated Total Size (MB): 6.49\n",
      "----------------------------------------------------------------\n"
     ]
    }
   ],
   "source": [
    "summary(model3,input_size=(1,28,28))"
   ]
  },
  {
   "cell_type": "markdown",
   "metadata": {},
   "source": [
    "```\n",
    "Above is the model summary with the computation resources required. For one image it need 5.63 mb size for the parameters and the 6.49 mb total size. Our this model consumes almost twice the memory than the previous model. Also, it has total 1,475,338 parameters which are also almost twice than the previous model. This model will take more time in computation, almost double the time and also requires more resources\n",
    "```"
   ]
  },
  {
   "cell_type": "code",
   "execution_count": 67,
   "metadata": {},
   "outputs": [
    {
     "name": "stdout",
     "output_type": "stream",
     "text": [
      "Epoch: 0, training loss: 0.41340 , validation loss: 0.39321 , validation accuracy: 86.00000\n",
      "Epoch: 1, training loss: 0.30660 , validation loss: 0.32747 , validation accuracy: 91.00000\n",
      "Epoch: 2, training loss: 0.24516 , validation loss: 0.24092 , validation accuracy: 92.00000\n",
      "Epoch: 3, training loss: 0.22223 , validation loss: 0.20712 , validation accuracy: 93.00000\n",
      "Epoch: 4, training loss: 0.28427 , validation loss: 0.21948 , validation accuracy: 93.00000\n",
      "Epoch: 5, training loss: 0.19040 , validation loss: 0.16131 , validation accuracy: 94.00000\n",
      "Epoch: 6, training loss: 0.16154 , validation loss: 0.14288 , validation accuracy: 94.00000\n",
      "Epoch: 7, training loss: 0.16845 , validation loss: 0.13849 , validation accuracy: 94.00000\n",
      "Epoch: 8, training loss: 0.18552 , validation loss: 0.14878 , validation accuracy: 95.00000\n",
      "Epoch: 9, training loss: 0.17062 , validation loss: 0.13146 , validation accuracy: 94.00000\n"
     ]
    }
   ],
   "source": [
    "train_lss,val_loss,accuracy_list = training(10,model3,train_loader,test_loader)"
   ]
  },
  {
   "cell_type": "markdown",
   "metadata": {},
   "source": [
    "```\n",
    "We have trained our model for 10 epoch. Since we are using batch of size 100 and our train dataset has 60,000 images, we have total 600 iteration per epoch which gives us total of 6000 iterations for 10 epoch. And that is why we are only training model with 10 epochs. \n",
    "\n",
    "With the 10 epoch and 2 2d-conv layer, we are managed to acheived 95% best validation accuracy. Also, from the training loss and validation loss, we can observe that the model was training very well. Since both the losses are decreasing per epoch.\n",
    "```"
   ]
  },
  {
   "cell_type": "code",
   "execution_count": 79,
   "metadata": {},
   "outputs": [
    {
     "data": {
      "image/png": "[encoded data removed]",
      "text/plain": [
       "<Figure size 1008x432 with 1 Axes>"
      ]
     },
     "metadata": {},
     "output_type": "display_data"
    }
   ],
   "source": [
    "plot_TrainTestMSE(6000,train_lss,val_loss)"
   ]
  },
  {
   "cell_type": "markdown",
   "metadata": {},
   "source": [
    "> The above plot is ploted between the total iterations and validation/training loss. In the above cell I had explained how we have 6000 iteration in 10 epoch. From the it seems that both the loses have various ups and downs but we must keep in mind that these losses are per iteration not per epoch. We got decreasing losses per epoch as in the output in previous cell. "
   ]
  },
  {
   "cell_type": "markdown",
   "metadata": {
    "id": "ZxZhix0v0_KZ"
   },
   "source": [
    "### Conclusion"
   ]
  },
  {
   "cell_type": "markdown",
   "metadata": {},
   "source": [
    "```\n",
    "Our second model has performed better than the first model in terms of accuracy. But if we compare in terms of computation resources required and time it takes to train the model, our model gives the best result. Consuming almost twice the resources and twice the time to train the model, we are managed to increase the accuracy by only 1% which is not a good tradeoff between accuracy and computation resources required.\n",
    "\n",
    "```"
   ]
  },
  {
   "cell_type": "code",
   "execution_count": null,
   "metadata": {},
   "outputs": [],
   "source": []
  },
  {
   "cell_type": "markdown",
   "metadata": {},
   "source": [
    "### References\n",
    "\n",
    "> https://pytorch.org/docs/stable/torchvision/datasets.html#mnist\n",
    "\n",
    "> All the function used in this are copied from previous assignmnet HW2\n",
    "\n",
    "> https://pytorch.org/docs/stable/generated/torch.nn.Conv2d.html#torch.nn.Conv2d\n",
    "\n",
    "> https://pytorch.org/docs/stable/generated/torch.nn.BatchNorm2d.html?highlight=batchnorm2d#torch.nn.BatchNorm2d\n",
    "\n",
    "> https://www.kaggle.com/tinydman/fashion-mnist-with-pytorch\n",
    "\n",
    "> https://pytorch.org/docs/stable/generated/torch.nn.Dropout.html?highlight=dropout#torch.nn.Dropout\n",
    "\n",
    "> https://pytorch.org/docs/stable/generated/torch.nn.MaxPool2d.html?highlight=maxpool#torch.nn.MaxPool2d\n",
    "\n",
    "> https://pytorch.org/docs/stable/generated/torch.nn.Linear.html?highlight=linear#torch.nn.Linear"
   ]
  },
  {
   "cell_type": "code",
   "execution_count": null,
   "metadata": {},
   "outputs": [],
   "source": []
  }
 ],
 "metadata": {
  "kernelspec": {
   "display_name": "Python 3",
   "language": "python",
   "name": "python3"
  },
  "language_info": {
   "codemirror_mode": {
    "name": "ipython",
    "version": 3
   },
   "file_extension": ".py",
   "mimetype": "text/x-python",
   "name": "python",
   "nbconvert_exporter": "python",
   "pygments_lexer": "ipython3",
   "version": "3.8.3"
  }
 },
 "nbformat": 4,
 "nbformat_minor": 4
}
